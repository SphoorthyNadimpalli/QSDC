{
 "cells": [
  {
   "cell_type": "code",
   "execution_count": 1,
   "id": "2ace8398",
   "metadata": {},
   "outputs": [],
   "source": [
    "#import qiskit\n",
    "from qiskit import QuantumCircuit, assemble, Aer,execute\n",
    "from qiskit.visualization import plot_histogram, plot_bloch_vector,array_to_latex\n",
    "import numpy as np"
   ]
  },
  {
   "cell_type": "code",
   "execution_count": 2,
   "id": "4d02122e",
   "metadata": {},
   "outputs": [],
   "source": [
    "IDA=[]\n",
    "IDB=[]\n",
    "M=[]\n",
    "E=[]\n",
    "for i in range(500):\n",
    "    IDA.append(np.random.randint(0,1)) #generating random ID for Alice\n",
    "    IDB.append(np.random.randint(0,1)) #generating random ID for Bob\n",
    "    M.append(np.random.randint(0,1))   #generating random message\n",
    "backend=Aer.get_backend('aer_simulator')"
   ]
  },
  {
   "cell_type": "code",
   "execution_count": 3,
   "id": "6c666c7c",
   "metadata": {},
   "outputs": [],
   "source": [
    "#Encoding\n",
    "E=[]\n",
    "#IDA before M if IDB is 0 else IDA after M if IDB is 1\n",
    "for i in range(len(M)):\n",
    "    if IDB[i]==0:\n",
    "        E.append(IDA[i])\n",
    "        E.append(M[i])\n",
    "    else:\n",
    "        E.append(M[i])\n",
    "        E.append(IDA[i])\n",
    "#print(E)\n",
    "Ans=[]\n",
    "for i in E:\n",
    "    #qc1 for generating 01 or 10 with equal probability\n",
    "    qc1= QuantumCircuit(1,1)\n",
    "    #qc for encoding the message into bits\n",
    "    qc=QuantumCircuit(2,2)\n",
    "    if i==0:\n",
    "        qc1.h(0)\n",
    "        qc1.measure(0,0)\n",
    "        job1=backend.run(qc1,shots=1,memory=True)\n",
    "        v1=job1.result().get_memory()\n",
    "        for j in v1:\n",
    "            if int(j)==0:\n",
    "                qc.id(0)\n",
    "                qc.x(1)\n",
    "            else:\n",
    "                qc.x(0)\n",
    "                qc.id(1)\n",
    "    \n",
    "    else:\n",
    "        qc1.h(0)\n",
    "        qc1.measure(0,0)\n",
    "        job1=backend.run(qc1,shots=1,memory=True)\n",
    "        v1=job1.result().get_memory()\n",
    "        for j in v1:\n",
    "            \n",
    "                qc.h(0)\n",
    "                qc.cx(0,1)\n",
    "                qc.z(0)\n",
    "                qc.z(1)\n",
    "        \n",
    "    \n",
    "   \n",
    "    #Decoding (directly measuring bit by bt message)\n",
    "\n",
    "    qc.measure(0,0)\n",
    "    qc.measure(1,1)\n",
    "    job=execute(qc,backend,shots=1024)\n",
    "    v=job.result().get_counts()\n",
    "    re=list(v.keys())\n",
    "    a= [char for char in re[0]]\n",
    "    if a[0]==a[1]:\n",
    "        Ans.append(1)\n",
    "    else:\n",
    "        Ans.append(0)\n",
    "#print(Ans)"
   ]
  },
  {
   "cell_type": "code",
   "execution_count": 4,
   "id": "16d5fc3b",
   "metadata": {},
   "outputs": [],
   "source": [
    "#discarding IDA information from Message\n",
    "Message=[]\n",
    "for i in range(0,len(Ans),2):\n",
    "\n",
    "    if IDB[int(i/2)]==1:\n",
    "        Message.append(Ans[i])\n",
    "    else:\n",
    "        Message.append(Ans[i+1])\n"
   ]
  },
  {
   "cell_type": "code",
   "execution_count": 5,
   "id": "9ad1f89d",
   "metadata": {},
   "outputs": [
    {
     "name": "stdout",
     "output_type": "stream",
     "text": [
      "Message has been decoded\n"
     ]
    }
   ],
   "source": [
    "if M==Message:\n",
    "    print(\"Message has been decoded\")"
   ]
  },
  {
   "cell_type": "code",
   "execution_count": 6,
   "id": "e809e5a6",
   "metadata": {},
   "outputs": [],
   "source": [
    "#print(\"The message is:\")\n",
    "#print(M)"
   ]
  },
  {
   "cell_type": "code",
   "execution_count": null,
   "id": "e9842415",
   "metadata": {},
   "outputs": [],
   "source": []
  },
  {
   "cell_type": "code",
   "execution_count": null,
   "id": "8c12921c",
   "metadata": {},
   "outputs": [],
   "source": []
  }
 ],
 "metadata": {
  "kernelspec": {
   "display_name": "Qiskit v0.34.1 (ipykernel)",
   "language": "python",
   "name": "python3"
  },
  "language_info": {
   "codemirror_mode": {
    "name": "ipython",
    "version": 3
   },
   "file_extension": ".py",
   "mimetype": "text/x-python",
   "name": "python",
   "nbconvert_exporter": "python",
   "pygments_lexer": "ipython3",
   "version": "3.8.12"
  },
  "widgets": {
   "application/vnd.jupyter.widget-state+json": {
    "state": {},
    "version_major": 2,
    "version_minor": 0
   }
  }
 },
 "nbformat": 4,
 "nbformat_minor": 5
}
