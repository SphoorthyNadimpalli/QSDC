{
 "cells": [
  {
   "cell_type": "code",
   "execution_count": 487,
   "metadata": {},
   "outputs": [],
   "source": [
    "#import qiskit\n",
    "from qiskit import QuantumCircuit, assemble, Aer,execute\n",
    "from qiskit.quantum_info import Statevector\n",
    "from qiskit.visualization import plot_histogram, plot_bloch_vector,array_to_latex\n",
    "import numpy as np\n",
    "import random\n",
    "from itertools import permutations\n",
    "import math"
   ]
  },
  {
   "cell_type": "code",
   "execution_count": 488,
   "metadata": {},
   "outputs": [],
   "source": [
    "IDA=[]#[0,1]\n",
    "IDB=[]#[1,0]\n",
    "M=[]#[1,1,1,0]\n",
    "E=[]\n",
    "backend=Aer.get_backend('aer_simulator')\n",
    "for i in range(500):\n",
    "    M.append(np.random.randint(0,1))  \n",
    "for i in range(100):\n",
    "    IDA.append(np.random.randint(0,1)) #generating random ID for Alice\n",
    "    IDB.append(np.random.randint(0,1)) #generating random ID for Bob\n"
   ]
  },
  {
   "cell_type": "code",
   "execution_count": 489,
   "metadata": {},
   "outputs": [],
   "source": [
    "st_a=[]\n",
    "for i in IDA:\n",
    "    qc1=QuantumCircuit(1,1)\n",
    "    qc=QuantumCircuit(1,1)\n",
    "    if i==0:\n",
    "        qc1.h(0)\n",
    "        qc1.measure(0,0)\n",
    "        job1=backend.run(qc1,shots=1,memory=True)\n",
    "        v1=job1.result().get_memory()\n",
    "        for j in v1:\n",
    "            if int(j)==1:\n",
    "                qc.x(0)\n",
    "        st_a.append((Statevector.from_instruction(qc).data).tolist())\n",
    "    else:\n",
    "        qc1.h(0)\n",
    "        qc1.measure(0,0)\n",
    "        job1=backend.run(qc1,shots=1,memory=True)\n",
    "        v1=job1.result().get_memory()\n",
    "        for j in v1:\n",
    "            if int(j)==0:\n",
    "                qc.h(0)\n",
    "            else:\n",
    "                qc.x(0)\n",
    "                qc.h(0)\n",
    "        st_a.append((Statevector.from_instruction(qc).data).tolist())\n",
    "#print(st_a)"
   ]
  },
  {
   "cell_type": "code",
   "execution_count": 490,
   "metadata": {},
   "outputs": [],
   "source": [
    "st_m=[]\n",
    "st_m_sp=[]\n",
    "for i in M:\n",
    "    qc1=QuantumCircuit(1,1)\n",
    "    qc=QuantumCircuit(2,2)\n",
    "    if i==0:\n",
    "        qc1.h(0)\n",
    "        qc1.measure(0,0)\n",
    "        job1=backend.run(qc1,shots=1,memory=True)\n",
    "        v1=job1.result().get_memory()\n",
    "        for j in v1:\n",
    "            if int(j)==0:\n",
    "                qc.id(0)\n",
    "                qc.x(1)\n",
    "            else:\n",
    "                qc.x(0)\n",
    "                qc.id(1)\n",
    "            st_m.append((Statevector.from_instruction(qc).data).tolist())\n",
    "            #print(Statevector.from_instruction(qc).data)\n",
    "        \n",
    "    else:\n",
    "        qc1.h(0)\n",
    "        qc1.measure(0,0)\n",
    "        job1=backend.run(qc1,shots=1,memory=True)\n",
    "        v1=job1.result().get_memory()\n",
    "        for j in v1:\n",
    "            qc.h(0)\n",
    "            qc.cx(0,1)\n",
    "            qc.z(0)\n",
    "            qc.z(1)\n",
    "            st_m.append((Statevector.from_instruction(qc).data).tolist())\n",
    "            Statevector.from_instruction(qc).data\n",
    "\n",
    "for sp in st_m:\n",
    "    st_m_sp.append(np.array_split(sp,2))\n",
    "st_m_flat=[itm for sublist in st_m_sp for itm in sublist]\n",
    "stm=[l.tolist() for l in st_m_flat]"
   ]
  },
  {
   "cell_type": "code",
   "execution_count": 491,
   "metadata": {},
   "outputs": [],
   "source": [
    "#permutations\n",
    "st_m_p=[]\n",
    "l=[item for item in range(0,len(stm))]\n",
    "random.shuffle(l)\n",
    "for i in l:\n",
    "    st_m_p.append(stm[i])\n",
    "#print(st_m_p)"
   ]
  },
  {
   "cell_type": "code",
   "execution_count": 492,
   "metadata": {},
   "outputs": [],
   "source": [
    "#insertion of first set of decoy photons\n",
    "k=len(IDA)\n",
    "lmd=int(math.floor(len(st_m_p)/k))\n",
    "sa_p=[]\n",
    "it=1\n",
    "lenmsg=len(st_m_p)\n",
    "for i in IDB:\n",
    "    #print(i)\n",
    "    if i==0:\n",
    "        ins=int(math.floor(lenmsg/it))-lmd\n",
    "        st_m_p.insert(ins,st_a[i-1])\n",
    "        sa_p.append(ins)\n",
    "    else:\n",
    "        ins=int(math.floor(lenmsg/it))\n",
    "        st_m_p.insert(ins,st_a[i-1])\n",
    "        sa_p.append(ins)\n",
    "    it=it+1\n",
    "#print(st_m_p)\n",
    "#print(len(st_m_p))"
   ]
  },
  {
   "cell_type": "code",
   "execution_count": 493,
   "metadata": {},
   "outputs": [],
   "source": [
    "#second set of decoy photons\n",
    "ssdp=[[(1+0j), 0j], [0j, (1+0j)], [(0.7071067811865475+0j), (0.7071067811865475+0j)], [(0.7071067811865475+0j), (-0.7071067811865475+0j)]]"
   ]
  },
  {
   "cell_type": "code",
   "execution_count": 494,
   "metadata": {},
   "outputs": [],
   "source": [
    "#random insertion of second set of decoy photons\n",
    "#print(lenmsg)\n",
    "num=random.randint(1,3)\n",
    "randp=[]\n",
    "randbs=[]\n",
    "for i in range(num):\n",
    "    randp.append(random.randint(0,lenmsg))\n",
    "randp.sort()\n",
    "for i in range(num):\n",
    "    rs=random.randint(0,3)\n",
    "    st_m_p.insert(randp[i],ssdp[rs])\n",
    "    randbs.append(rs)\n",
    "#print(st_m_p)\n",
    "#print(randp)\n",
    "#print(randbs)"
   ]
  },
  {
   "cell_type": "code",
   "execution_count": 495,
   "metadata": {},
   "outputs": [
    {
     "name": "stdout",
     "output_type": "stream",
     "text": [
      "proceed\n"
     ]
    }
   ],
   "source": [
    "#security check\n",
    "\n",
    "k=0\n",
    "e=0\n",
    "scb=[]\n",
    "for i in randp:\n",
    "    qcs=QuantumCircuit(1,1)\n",
    "    int_st=Statevector(st_m_p[i])\n",
    "    #print(st_m_p[i])\n",
    "    qcs.initialize(int_st.data,0)\n",
    "    if randbs[k]<=1:\n",
    "        qcs.measure(0,0)\n",
    "        jobs=backend.run(qcs,shots=1,memory=True)\n",
    "        bs=jobs.result().get_memory()\n",
    "        if bs==['0']:\n",
    "            scb.append(0)\n",
    "        else:\n",
    "            scb.append(1)\n",
    "    else:\n",
    "        qcs.h(0)\n",
    "        qcs.measure(0,0)\n",
    "        jobs=backend.run(qcs,shots=1,memory=True)\n",
    "        bs=jobs.result().get_memory()\n",
    "        if bs==['0']:\n",
    "            scb.append(2)\n",
    "        else:\n",
    "            scb.append(3)\n",
    "    \n",
    "    k=k+1\n",
    "for i in range(len(scb)):\n",
    "    if scb[i]==randbs[i]:\n",
    "        e=e+1\n",
    "for i in reversed(randp):\n",
    "    del st_m_p[i]\n",
    "if e/len(scb)>=0.75:\n",
    "    print(\"proceed\")\n",
    "    \n",
    "else:\n",
    "    print(\"terminate\")\n",
    "#print(st_m_p)"
   ]
  },
  {
   "cell_type": "code",
   "execution_count": 496,
   "metadata": {},
   "outputs": [
    {
     "name": "stdout",
     "output_type": "stream",
     "text": [
      "proceed\n"
     ]
    }
   ],
   "source": [
    "#authentication\n",
    "a_inf=[]\n",
    "e=0\n",
    "it=len(IDB)\n",
    "#print(len(st_m_p))\n",
    "for i in reversed(IDB):\n",
    "    qcb=QuantumCircuit(1,1)\n",
    "    if i==0:\n",
    "        ins=int(math.floor(lenmsg/it))-lmd\n",
    "        if IDA[it-1]==0:\n",
    "            #print(st_m_p[ins])\n",
    "            qcb.initialize(st_m_p[ins],0)\n",
    "            qcb.measure(0,0)\n",
    "            jobb=backend.run(qcb,shots=100,memory=True)\n",
    "            bs=jobb.result().get_counts()\n",
    "            if '0' or '1' in bs.keys():\n",
    "                    a_inf.append(1)\n",
    "            \n",
    "        else:\n",
    "            #Statevector.evolve(st_m_p[ins-1],qcb)\n",
    "            #print(st_m_p[ins])\n",
    "            qcb.initialize(st_m_p[ins],0)\n",
    "            qcb.h(0)\n",
    "            qcb.measure(0,0)\n",
    "            jobb=backend.run(qcb,shots=1,memory=True)\n",
    "            bs=jobb.result().get_counts()\n",
    "            print(bs)\n",
    "            if '0' or '1' in bs.keys():\n",
    "                    a_inf.append(0)\n",
    "            \n",
    "    \n",
    "    else:\n",
    "        ins=int(math.floor(lenmsg/it))\n",
    "        if IDA[it-1]==0:\n",
    "            #Statevector.evolve(st_m_p[ins],qcb)\n",
    "            qcb.initialize(st_m_p[ins],0)\n",
    "            #print(st_m_p[ins])\n",
    "            qcb.measure(0,0)\n",
    "            jobb=backend.run(qcb,shots=1,memory=True)\n",
    "            bs=jobb.result().get_counts()\n",
    "            if '0' or '1' in bs.keys():\n",
    "                    a_inf.append(1)\n",
    "            \n",
    "    \n",
    "        else:\n",
    "            #Statevector.evolve(st_m_p[ins],qcb)\n",
    "            qcb.initialize(st_m_p[ins],0)\n",
    "            #print(st_m_p[ins])\n",
    "            qcb.h(0)\n",
    "            qcb.measure(0,0)\n",
    "            jobb=backend.run(qcb,shots=1,memory=True)\n",
    "            bs=jobb.result().get_counts()\n",
    "            if '0' or '1' in bs.keys():\n",
    "                    a_inf.append(0)\n",
    "    del st_m_p[ins]\n",
    "    #st_m_p.remove(st_m_p[ins])\n",
    "    it=it-1\n",
    "#a_inf.reverse()\n",
    "#print(a_inf)\n",
    "#print(IDA)\n",
    "for i in range(len(a_inf)):\n",
    "    if a_inf[i]!=IDA[i]:\n",
    "        e=e+1\n",
    "if e/len(a_inf)<=0.75:\n",
    "    print(\"terminate\")\n",
    "else:\n",
    "    print(\"proceed\")\n",
    "#print(st_m_p)"
   ]
  },
  {
   "cell_type": "code",
   "execution_count": 497,
   "metadata": {},
   "outputs": [],
   "source": [
    "#decoding\n",
    "dec_m={}\n",
    "dm={}\n",
    "dec_circ=[]\n",
    "k=0\n",
    "Ans=[]\n",
    "for i in st_m_p:\n",
    "    dec_m[l[k]]=i\n",
    "    k=k+1\n",
    "for i in sorted(dec_m):\n",
    "    dm[i]=dec_m[i]\n",
    "DM=list(dm.values())\n",
    "for i in range(int(len(DM)/2)):\n",
    "    dec_circ.append(DM[2*i]+DM[(2*i)+1])\n",
    "#print(dec_circ)\n",
    "for i in (dec_circ):\n",
    "    qcdec=QuantumCircuit(2,2)\n",
    "    qcdec.initialize(i,[0,1])\n",
    "    qcdec.measure(0,0)\n",
    "    qcdec.measure(1,1)\n",
    "    jobd=execute(qcdec,backend,shots=1024)\n",
    "    vd=jobd.result().get_counts()\n",
    "    re=list(vd.keys())\n",
    "    a= [char for char in re[0]]\n",
    "    if a[0]==a[1]:\n",
    "        Ans.append(1)\n",
    "    else:\n",
    "        Ans.append(0)\n",
    "#print(Ans)"
   ]
  },
  {
   "cell_type": "code",
   "execution_count": 498,
   "metadata": {},
   "outputs": [
    {
     "name": "stdout",
     "output_type": "stream",
     "text": [
      "Message has been decoded\n"
     ]
    }
   ],
   "source": [
    "if M==Ans:\n",
    "    print(\"Message has been decoded\")"
   ]
  },
  {
   "cell_type": "code",
   "execution_count": 499,
   "metadata": {},
   "outputs": [],
   "source": [
    "#print(\"The Message is\")\n",
    "#print(Ans)"
   ]
  }
 ],
 "metadata": {
  "kernelspec": {
   "display_name": "Qiskit v0.34.1 (ipykernel)",
   "language": "python",
   "name": "python3"
  },
  "language_info": {
   "codemirror_mode": {
    "name": "ipython",
    "version": 3
   },
   "file_extension": ".py",
   "mimetype": "text/x-python",
   "name": "python",
   "nbconvert_exporter": "python",
   "pygments_lexer": "ipython3",
   "version": "3.8.10"
  },
  "widgets": {
   "application/vnd.jupyter.widget-state+json": {
    "state": {},
    "version_major": 2,
    "version_minor": 0
   }
  }
 },
 "nbformat": 4,
 "nbformat_minor": 4
}
